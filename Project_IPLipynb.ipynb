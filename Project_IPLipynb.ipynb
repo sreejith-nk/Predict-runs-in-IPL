{
  "nbformat": 4,
  "nbformat_minor": 0,
  "metadata": {
    "colab": {
      "name": "Project_IPLipynb",
      "provenance": []
    },
    "kernelspec": {
      "name": "python3",
      "display_name": "Python 3"
    },
    "language_info": {
      "name": "python"
    }
  },
  "cells": [
    {
      "cell_type": "markdown",
      "metadata": {
        "id": "LGSeN_Z7lLaI"
      },
      "source": [
        "#ML MODEL TO PREDICT RUNS AT END OF 6 OVERS IN AN IPL MATCH"
      ]
    },
    {
      "cell_type": "code",
      "metadata": {
        "id": "g8vY1ayYT-8D"
      },
      "source": [
        "import pandas as pd"
      ],
      "execution_count": null,
      "outputs": []
    },
    {
      "cell_type": "markdown",
      "metadata": {
        "id": "bhebmERqT1bP"
      },
      "source": [
        "##Importing Data\n"
      ]
    },
    {
      "cell_type": "code",
      "metadata": {
        "id": "Vyci7gYLTRuW",
        "colab": {
          "base_uri": "https://localhost:8080/"
        },
        "outputId": "0a19a4b5-0acd-4bc6-e808-e16cfaa3490f"
      },
      "source": [
        "from google.colab import drive\n",
        "drive.mount('/content/gdrive')"
      ],
      "execution_count": null,
      "outputs": [
        {
          "output_type": "stream",
          "text": [
            "Mounted at /content/gdrive\n"
          ],
          "name": "stdout"
        }
      ]
    },
    {
      "cell_type": "code",
      "metadata": {
        "colab": {
          "base_uri": "https://localhost:8080/"
        },
        "id": "VNxA-ouSUHC1",
        "outputId": "dc25a5c0-33cb-44ce-cf3c-87662f1b10d6"
      },
      "source": [
        "ipl_data=pd.read_csv(\"gdrive/My Drive/IPL/all_matches.csv\")"
      ],
      "execution_count": null,
      "outputs": [
        {
          "output_type": "stream",
          "text": [
            "/usr/local/lib/python3.7/dist-packages/IPython/core/interactiveshell.py:2718: DtypeWarning: Columns (1) have mixed types.Specify dtype option on import or set low_memory=False.\n",
            "  interactivity=interactivity, compiler=compiler, result=result)\n"
          ],
          "name": "stderr"
        }
      ]
    },
    {
      "cell_type": "code",
      "metadata": {
        "colab": {
          "base_uri": "https://localhost:8080/",
          "height": 926
        },
        "id": "dG6sphBzUQY6",
        "outputId": "15bdded9-9230-42f2-8aef-8f0509d986e5"
      },
      "source": [
        "ipl_data"
      ],
      "execution_count": null,
      "outputs": [
        {
          "output_type": "execute_result",
          "data": {
            "text/html": [
              "<div>\n",
              "<style scoped>\n",
              "    .dataframe tbody tr th:only-of-type {\n",
              "        vertical-align: middle;\n",
              "    }\n",
              "\n",
              "    .dataframe tbody tr th {\n",
              "        vertical-align: top;\n",
              "    }\n",
              "\n",
              "    .dataframe thead th {\n",
              "        text-align: right;\n",
              "    }\n",
              "</style>\n",
              "<table border=\"1\" class=\"dataframe\">\n",
              "  <thead>\n",
              "    <tr style=\"text-align: right;\">\n",
              "      <th></th>\n",
              "      <th>match_id</th>\n",
              "      <th>season</th>\n",
              "      <th>start_date</th>\n",
              "      <th>venue</th>\n",
              "      <th>innings</th>\n",
              "      <th>ball</th>\n",
              "      <th>batting_team</th>\n",
              "      <th>bowling_team</th>\n",
              "      <th>striker</th>\n",
              "      <th>non_striker</th>\n",
              "      <th>bowler</th>\n",
              "      <th>runs_off_bat</th>\n",
              "      <th>extras</th>\n",
              "      <th>wides</th>\n",
              "      <th>noballs</th>\n",
              "      <th>byes</th>\n",
              "      <th>legbyes</th>\n",
              "      <th>penalty</th>\n",
              "      <th>wicket_type</th>\n",
              "      <th>player_dismissed</th>\n",
              "      <th>other_wicket_type</th>\n",
              "      <th>other_player_dismissed</th>\n",
              "    </tr>\n",
              "  </thead>\n",
              "  <tbody>\n",
              "    <tr>\n",
              "      <th>0</th>\n",
              "      <td>335982</td>\n",
              "      <td>2007/08</td>\n",
              "      <td>2008-04-18</td>\n",
              "      <td>M Chinnaswamy Stadium</td>\n",
              "      <td>1</td>\n",
              "      <td>0.1</td>\n",
              "      <td>Kolkata Knight Riders</td>\n",
              "      <td>Royal Challengers Bangalore</td>\n",
              "      <td>SC Ganguly</td>\n",
              "      <td>BB McCullum</td>\n",
              "      <td>P Kumar</td>\n",
              "      <td>0</td>\n",
              "      <td>1</td>\n",
              "      <td>NaN</td>\n",
              "      <td>NaN</td>\n",
              "      <td>NaN</td>\n",
              "      <td>1.0</td>\n",
              "      <td>NaN</td>\n",
              "      <td>NaN</td>\n",
              "      <td>NaN</td>\n",
              "      <td>NaN</td>\n",
              "      <td>NaN</td>\n",
              "    </tr>\n",
              "    <tr>\n",
              "      <th>1</th>\n",
              "      <td>335982</td>\n",
              "      <td>2007/08</td>\n",
              "      <td>2008-04-18</td>\n",
              "      <td>M Chinnaswamy Stadium</td>\n",
              "      <td>1</td>\n",
              "      <td>0.2</td>\n",
              "      <td>Kolkata Knight Riders</td>\n",
              "      <td>Royal Challengers Bangalore</td>\n",
              "      <td>BB McCullum</td>\n",
              "      <td>SC Ganguly</td>\n",
              "      <td>P Kumar</td>\n",
              "      <td>0</td>\n",
              "      <td>0</td>\n",
              "      <td>NaN</td>\n",
              "      <td>NaN</td>\n",
              "      <td>NaN</td>\n",
              "      <td>NaN</td>\n",
              "      <td>NaN</td>\n",
              "      <td>NaN</td>\n",
              "      <td>NaN</td>\n",
              "      <td>NaN</td>\n",
              "      <td>NaN</td>\n",
              "    </tr>\n",
              "    <tr>\n",
              "      <th>2</th>\n",
              "      <td>335982</td>\n",
              "      <td>2007/08</td>\n",
              "      <td>2008-04-18</td>\n",
              "      <td>M Chinnaswamy Stadium</td>\n",
              "      <td>1</td>\n",
              "      <td>0.3</td>\n",
              "      <td>Kolkata Knight Riders</td>\n",
              "      <td>Royal Challengers Bangalore</td>\n",
              "      <td>BB McCullum</td>\n",
              "      <td>SC Ganguly</td>\n",
              "      <td>P Kumar</td>\n",
              "      <td>0</td>\n",
              "      <td>1</td>\n",
              "      <td>1.0</td>\n",
              "      <td>NaN</td>\n",
              "      <td>NaN</td>\n",
              "      <td>NaN</td>\n",
              "      <td>NaN</td>\n",
              "      <td>NaN</td>\n",
              "      <td>NaN</td>\n",
              "      <td>NaN</td>\n",
              "      <td>NaN</td>\n",
              "    </tr>\n",
              "    <tr>\n",
              "      <th>3</th>\n",
              "      <td>335982</td>\n",
              "      <td>2007/08</td>\n",
              "      <td>2008-04-18</td>\n",
              "      <td>M Chinnaswamy Stadium</td>\n",
              "      <td>1</td>\n",
              "      <td>0.4</td>\n",
              "      <td>Kolkata Knight Riders</td>\n",
              "      <td>Royal Challengers Bangalore</td>\n",
              "      <td>BB McCullum</td>\n",
              "      <td>SC Ganguly</td>\n",
              "      <td>P Kumar</td>\n",
              "      <td>0</td>\n",
              "      <td>0</td>\n",
              "      <td>NaN</td>\n",
              "      <td>NaN</td>\n",
              "      <td>NaN</td>\n",
              "      <td>NaN</td>\n",
              "      <td>NaN</td>\n",
              "      <td>NaN</td>\n",
              "      <td>NaN</td>\n",
              "      <td>NaN</td>\n",
              "      <td>NaN</td>\n",
              "    </tr>\n",
              "    <tr>\n",
              "      <th>4</th>\n",
              "      <td>335982</td>\n",
              "      <td>2007/08</td>\n",
              "      <td>2008-04-18</td>\n",
              "      <td>M Chinnaswamy Stadium</td>\n",
              "      <td>1</td>\n",
              "      <td>0.5</td>\n",
              "      <td>Kolkata Knight Riders</td>\n",
              "      <td>Royal Challengers Bangalore</td>\n",
              "      <td>BB McCullum</td>\n",
              "      <td>SC Ganguly</td>\n",
              "      <td>P Kumar</td>\n",
              "      <td>0</td>\n",
              "      <td>0</td>\n",
              "      <td>NaN</td>\n",
              "      <td>NaN</td>\n",
              "      <td>NaN</td>\n",
              "      <td>NaN</td>\n",
              "      <td>NaN</td>\n",
              "      <td>NaN</td>\n",
              "      <td>NaN</td>\n",
              "      <td>NaN</td>\n",
              "      <td>NaN</td>\n",
              "    </tr>\n",
              "    <tr>\n",
              "      <th>...</th>\n",
              "      <td>...</td>\n",
              "      <td>...</td>\n",
              "      <td>...</td>\n",
              "      <td>...</td>\n",
              "      <td>...</td>\n",
              "      <td>...</td>\n",
              "      <td>...</td>\n",
              "      <td>...</td>\n",
              "      <td>...</td>\n",
              "      <td>...</td>\n",
              "      <td>...</td>\n",
              "      <td>...</td>\n",
              "      <td>...</td>\n",
              "      <td>...</td>\n",
              "      <td>...</td>\n",
              "      <td>...</td>\n",
              "      <td>...</td>\n",
              "      <td>...</td>\n",
              "      <td>...</td>\n",
              "      <td>...</td>\n",
              "      <td>...</td>\n",
              "      <td>...</td>\n",
              "    </tr>\n",
              "    <tr>\n",
              "      <th>194349</th>\n",
              "      <td>1254060</td>\n",
              "      <td>2021</td>\n",
              "      <td>2021-04-11</td>\n",
              "      <td>MA Chidambaram Stadium, Chepauk, Chennai</td>\n",
              "      <td>2</td>\n",
              "      <td>19.2</td>\n",
              "      <td>Sunrisers Hyderabad</td>\n",
              "      <td>Kolkata Knight Riders</td>\n",
              "      <td>Abdul Samad</td>\n",
              "      <td>MK Pandey</td>\n",
              "      <td>AD Russell</td>\n",
              "      <td>0</td>\n",
              "      <td>0</td>\n",
              "      <td>NaN</td>\n",
              "      <td>NaN</td>\n",
              "      <td>NaN</td>\n",
              "      <td>NaN</td>\n",
              "      <td>NaN</td>\n",
              "      <td>NaN</td>\n",
              "      <td>NaN</td>\n",
              "      <td>NaN</td>\n",
              "      <td>NaN</td>\n",
              "    </tr>\n",
              "    <tr>\n",
              "      <th>194350</th>\n",
              "      <td>1254060</td>\n",
              "      <td>2021</td>\n",
              "      <td>2021-04-11</td>\n",
              "      <td>MA Chidambaram Stadium, Chepauk, Chennai</td>\n",
              "      <td>2</td>\n",
              "      <td>19.3</td>\n",
              "      <td>Sunrisers Hyderabad</td>\n",
              "      <td>Kolkata Knight Riders</td>\n",
              "      <td>Abdul Samad</td>\n",
              "      <td>MK Pandey</td>\n",
              "      <td>AD Russell</td>\n",
              "      <td>1</td>\n",
              "      <td>0</td>\n",
              "      <td>NaN</td>\n",
              "      <td>NaN</td>\n",
              "      <td>NaN</td>\n",
              "      <td>NaN</td>\n",
              "      <td>NaN</td>\n",
              "      <td>NaN</td>\n",
              "      <td>NaN</td>\n",
              "      <td>NaN</td>\n",
              "      <td>NaN</td>\n",
              "    </tr>\n",
              "    <tr>\n",
              "      <th>194351</th>\n",
              "      <td>1254060</td>\n",
              "      <td>2021</td>\n",
              "      <td>2021-04-11</td>\n",
              "      <td>MA Chidambaram Stadium, Chepauk, Chennai</td>\n",
              "      <td>2</td>\n",
              "      <td>19.4</td>\n",
              "      <td>Sunrisers Hyderabad</td>\n",
              "      <td>Kolkata Knight Riders</td>\n",
              "      <td>MK Pandey</td>\n",
              "      <td>Abdul Samad</td>\n",
              "      <td>AD Russell</td>\n",
              "      <td>1</td>\n",
              "      <td>0</td>\n",
              "      <td>NaN</td>\n",
              "      <td>NaN</td>\n",
              "      <td>NaN</td>\n",
              "      <td>NaN</td>\n",
              "      <td>NaN</td>\n",
              "      <td>NaN</td>\n",
              "      <td>NaN</td>\n",
              "      <td>NaN</td>\n",
              "      <td>NaN</td>\n",
              "    </tr>\n",
              "    <tr>\n",
              "      <th>194352</th>\n",
              "      <td>1254060</td>\n",
              "      <td>2021</td>\n",
              "      <td>2021-04-11</td>\n",
              "      <td>MA Chidambaram Stadium, Chepauk, Chennai</td>\n",
              "      <td>2</td>\n",
              "      <td>19.5</td>\n",
              "      <td>Sunrisers Hyderabad</td>\n",
              "      <td>Kolkata Knight Riders</td>\n",
              "      <td>Abdul Samad</td>\n",
              "      <td>MK Pandey</td>\n",
              "      <td>AD Russell</td>\n",
              "      <td>1</td>\n",
              "      <td>0</td>\n",
              "      <td>NaN</td>\n",
              "      <td>NaN</td>\n",
              "      <td>NaN</td>\n",
              "      <td>NaN</td>\n",
              "      <td>NaN</td>\n",
              "      <td>NaN</td>\n",
              "      <td>NaN</td>\n",
              "      <td>NaN</td>\n",
              "      <td>NaN</td>\n",
              "    </tr>\n",
              "    <tr>\n",
              "      <th>194353</th>\n",
              "      <td>1254060</td>\n",
              "      <td>2021</td>\n",
              "      <td>2021-04-11</td>\n",
              "      <td>MA Chidambaram Stadium, Chepauk, Chennai</td>\n",
              "      <td>2</td>\n",
              "      <td>19.6</td>\n",
              "      <td>Sunrisers Hyderabad</td>\n",
              "      <td>Kolkata Knight Riders</td>\n",
              "      <td>MK Pandey</td>\n",
              "      <td>Abdul Samad</td>\n",
              "      <td>AD Russell</td>\n",
              "      <td>6</td>\n",
              "      <td>0</td>\n",
              "      <td>NaN</td>\n",
              "      <td>NaN</td>\n",
              "      <td>NaN</td>\n",
              "      <td>NaN</td>\n",
              "      <td>NaN</td>\n",
              "      <td>NaN</td>\n",
              "      <td>NaN</td>\n",
              "      <td>NaN</td>\n",
              "      <td>NaN</td>\n",
              "    </tr>\n",
              "  </tbody>\n",
              "</table>\n",
              "<p>194354 rows × 22 columns</p>\n",
              "</div>"
            ],
            "text/plain": [
              "        match_id   season  ... other_wicket_type other_player_dismissed\n",
              "0         335982  2007/08  ...               NaN                    NaN\n",
              "1         335982  2007/08  ...               NaN                    NaN\n",
              "2         335982  2007/08  ...               NaN                    NaN\n",
              "3         335982  2007/08  ...               NaN                    NaN\n",
              "4         335982  2007/08  ...               NaN                    NaN\n",
              "...          ...      ...  ...               ...                    ...\n",
              "194349   1254060     2021  ...               NaN                    NaN\n",
              "194350   1254060     2021  ...               NaN                    NaN\n",
              "194351   1254060     2021  ...               NaN                    NaN\n",
              "194352   1254060     2021  ...               NaN                    NaN\n",
              "194353   1254060     2021  ...               NaN                    NaN\n",
              "\n",
              "[194354 rows x 22 columns]"
            ]
          },
          "metadata": {
            "tags": []
          },
          "execution_count": 7
        }
      ]
    },
    {
      "cell_type": "markdown",
      "metadata": {
        "id": "Gokh-gIeUySo"
      },
      "source": [
        "We need data only till 6 overs"
      ]
    },
    {
      "cell_type": "code",
      "metadata": {
        "id": "f7ZQVDuBUxUw"
      },
      "source": [
        "ipl_data.drop(ipl_data.index[ipl_data[\"ball\"]>6], axis=0, inplace=True)"
      ],
      "execution_count": null,
      "outputs": []
    },
    {
      "cell_type": "markdown",
      "metadata": {
        "id": "437knfElVErL"
      },
      "source": [
        "We find the total runs and drop the \"runs_off_bat\" and \"extras\" column"
      ]
    },
    {
      "cell_type": "code",
      "metadata": {
        "id": "R9kLRiPfUriQ"
      },
      "source": [
        "ipl_data['total_runs']=ipl_data['runs_off_bat']+ipl_data['extras']\n",
        "ipl_data=ipl_data.drop(columns=['runs_off_bat','extras'])"
      ],
      "execution_count": null,
      "outputs": []
    },
    {
      "cell_type": "code",
      "metadata": {
        "id": "vhLlQgGFVblq"
      },
      "source": [
        "text_feature=[feature for feature in ipl_data.columns if ipl_data[feature].dtypes=='O']"
      ],
      "execution_count": null,
      "outputs": []
    },
    {
      "cell_type": "code",
      "metadata": {
        "colab": {
          "base_uri": "https://localhost:8080/"
        },
        "id": "CQbB1at0VTr5",
        "outputId": "5d13b0b5-4856-4886-9baf-5fe6c7d6b644"
      },
      "source": [
        "text_feature"
      ],
      "execution_count": null,
      "outputs": [
        {
          "output_type": "execute_result",
          "data": {
            "text/plain": [
              "['season',\n",
              " 'start_date',\n",
              " 'venue',\n",
              " 'batting_team',\n",
              " 'bowling_team',\n",
              " 'striker',\n",
              " 'non_striker',\n",
              " 'bowler',\n",
              " 'wicket_type',\n",
              " 'player_dismissed']"
            ]
          },
          "metadata": {
            "tags": []
          },
          "execution_count": 18
        }
      ]
    },
    {
      "cell_type": "markdown",
      "metadata": {
        "id": "7-2Yv-dSWw_R"
      },
      "source": [
        "We have so much text data, that need to be converted into numericals...\n",
        "So, I use a technique of calculating the average and repalcing the text with the average.\n",
        "For example to replace the text value of \"MA Chidambaram\", I calculated the average runs in \"MA Chidambaram\" from ipl_data and put it there. "
      ]
    },
    {
      "cell_type": "markdown",
      "metadata": {
        "id": "boLrd_I4XtVQ"
      },
      "source": [
        "I will show how I did this for venue column and remaining is self explanaotry"
      ]
    },
    {
      "cell_type": "markdown",
      "metadata": {
        "id": "A2QlWYVDX_n8"
      },
      "source": [
        "##**Venue Average Calculations**\n",
        "\n",
        "\n",
        "\n"
      ]
    },
    {
      "cell_type": "markdown",
      "metadata": {
        "id": "GyjMu9zWYPb6"
      },
      "source": [
        "For counting total matches"
      ]
    },
    {
      "cell_type": "code",
      "metadata": {
        "id": "U7qEP9WjX_Se"
      },
      "source": [
        "x=ipl_data[ipl_data['ball']==5.6]\n",
        "x=x[x['innings']==1]\n",
        "a=x.pivot_table(index=['venue'],aggfunc='size')\n",
        "a=a.reset_index()\n",
        "a=a.rename(columns={0:'total_matches'})"
      ],
      "execution_count": null,
      "outputs": []
    },
    {
      "cell_type": "code",
      "metadata": {
        "colab": {
          "base_uri": "https://localhost:8080/",
          "height": 1000
        },
        "id": "iMSTD5BTX3Nb",
        "outputId": "e57e58ee-5c0c-4a9b-975a-9459c885f50a"
      },
      "source": [
        "a"
      ],
      "execution_count": null,
      "outputs": [
        {
          "output_type": "execute_result",
          "data": {
            "text/html": [
              "<div>\n",
              "<style scoped>\n",
              "    .dataframe tbody tr th:only-of-type {\n",
              "        vertical-align: middle;\n",
              "    }\n",
              "\n",
              "    .dataframe tbody tr th {\n",
              "        vertical-align: top;\n",
              "    }\n",
              "\n",
              "    .dataframe thead th {\n",
              "        text-align: right;\n",
              "    }\n",
              "</style>\n",
              "<table border=\"1\" class=\"dataframe\">\n",
              "  <thead>\n",
              "    <tr style=\"text-align: right;\">\n",
              "      <th></th>\n",
              "      <th>venue</th>\n",
              "      <th>total_matches</th>\n",
              "    </tr>\n",
              "  </thead>\n",
              "  <tbody>\n",
              "    <tr>\n",
              "      <th>0</th>\n",
              "      <td>Arun Jaitley Stadium</td>\n",
              "      <td>14</td>\n",
              "    </tr>\n",
              "    <tr>\n",
              "      <th>1</th>\n",
              "      <td>Barabati Stadium</td>\n",
              "      <td>7</td>\n",
              "    </tr>\n",
              "    <tr>\n",
              "      <th>2</th>\n",
              "      <td>Brabourne Stadium</td>\n",
              "      <td>11</td>\n",
              "    </tr>\n",
              "    <tr>\n",
              "      <th>3</th>\n",
              "      <td>Buffalo Park</td>\n",
              "      <td>3</td>\n",
              "    </tr>\n",
              "    <tr>\n",
              "      <th>4</th>\n",
              "      <td>De Beers Diamond Oval</td>\n",
              "      <td>3</td>\n",
              "    </tr>\n",
              "    <tr>\n",
              "      <th>5</th>\n",
              "      <td>Dr DY Patil Sports Academy</td>\n",
              "      <td>17</td>\n",
              "    </tr>\n",
              "    <tr>\n",
              "      <th>6</th>\n",
              "      <td>Dr. Y.S. Rajasekhara Reddy ACA-VDCA Cricket St...</td>\n",
              "      <td>13</td>\n",
              "    </tr>\n",
              "    <tr>\n",
              "      <th>7</th>\n",
              "      <td>Dubai International Cricket Stadium</td>\n",
              "      <td>33</td>\n",
              "    </tr>\n",
              "    <tr>\n",
              "      <th>8</th>\n",
              "      <td>Eden Gardens</td>\n",
              "      <td>77</td>\n",
              "    </tr>\n",
              "    <tr>\n",
              "      <th>9</th>\n",
              "      <td>Feroz Shah Kotla</td>\n",
              "      <td>60</td>\n",
              "    </tr>\n",
              "    <tr>\n",
              "      <th>10</th>\n",
              "      <td>Green Park</td>\n",
              "      <td>4</td>\n",
              "    </tr>\n",
              "    <tr>\n",
              "      <th>11</th>\n",
              "      <td>Himachal Pradesh Cricket Association Stadium</td>\n",
              "      <td>9</td>\n",
              "    </tr>\n",
              "    <tr>\n",
              "      <th>12</th>\n",
              "      <td>Holkar Cricket Stadium</td>\n",
              "      <td>9</td>\n",
              "    </tr>\n",
              "    <tr>\n",
              "      <th>13</th>\n",
              "      <td>JSCA International Stadium Complex</td>\n",
              "      <td>7</td>\n",
              "    </tr>\n",
              "    <tr>\n",
              "      <th>14</th>\n",
              "      <td>Kingsmead</td>\n",
              "      <td>15</td>\n",
              "    </tr>\n",
              "    <tr>\n",
              "      <th>15</th>\n",
              "      <td>M Chinnaswamy Stadium</td>\n",
              "      <td>65</td>\n",
              "    </tr>\n",
              "    <tr>\n",
              "      <th>16</th>\n",
              "      <td>M.Chinnaswamy Stadium</td>\n",
              "      <td>14</td>\n",
              "    </tr>\n",
              "    <tr>\n",
              "      <th>17</th>\n",
              "      <td>MA Chidambaram Stadium</td>\n",
              "      <td>9</td>\n",
              "    </tr>\n",
              "    <tr>\n",
              "      <th>18</th>\n",
              "      <td>MA Chidambaram Stadium, Chepauk</td>\n",
              "      <td>48</td>\n",
              "    </tr>\n",
              "    <tr>\n",
              "      <th>19</th>\n",
              "      <td>MA Chidambaram Stadium, Chepauk, Chennai</td>\n",
              "      <td>2</td>\n",
              "    </tr>\n",
              "    <tr>\n",
              "      <th>20</th>\n",
              "      <td>Maharashtra Cricket Association Stadium</td>\n",
              "      <td>21</td>\n",
              "    </tr>\n",
              "    <tr>\n",
              "      <th>21</th>\n",
              "      <td>Nehru Stadium</td>\n",
              "      <td>5</td>\n",
              "    </tr>\n",
              "    <tr>\n",
              "      <th>22</th>\n",
              "      <td>New Wanderers Stadium</td>\n",
              "      <td>8</td>\n",
              "    </tr>\n",
              "    <tr>\n",
              "      <th>23</th>\n",
              "      <td>Newlands</td>\n",
              "      <td>7</td>\n",
              "    </tr>\n",
              "    <tr>\n",
              "      <th>24</th>\n",
              "      <td>OUTsurance Oval</td>\n",
              "      <td>2</td>\n",
              "    </tr>\n",
              "    <tr>\n",
              "      <th>25</th>\n",
              "      <td>Punjab Cricket Association IS Bindra Stadium</td>\n",
              "      <td>10</td>\n",
              "    </tr>\n",
              "    <tr>\n",
              "      <th>26</th>\n",
              "      <td>Punjab Cricket Association IS Bindra Stadium, ...</td>\n",
              "      <td>11</td>\n",
              "    </tr>\n",
              "    <tr>\n",
              "      <th>27</th>\n",
              "      <td>Punjab Cricket Association Stadium, Mohali</td>\n",
              "      <td>35</td>\n",
              "    </tr>\n",
              "    <tr>\n",
              "      <th>28</th>\n",
              "      <td>Rajiv Gandhi International Stadium</td>\n",
              "      <td>15</td>\n",
              "    </tr>\n",
              "    <tr>\n",
              "      <th>29</th>\n",
              "      <td>Rajiv Gandhi International Stadium, Uppal</td>\n",
              "      <td>49</td>\n",
              "    </tr>\n",
              "    <tr>\n",
              "      <th>30</th>\n",
              "      <td>Sardar Patel Stadium, Motera</td>\n",
              "      <td>12</td>\n",
              "    </tr>\n",
              "    <tr>\n",
              "      <th>31</th>\n",
              "      <td>Saurashtra Cricket Association Stadium</td>\n",
              "      <td>10</td>\n",
              "    </tr>\n",
              "    <tr>\n",
              "      <th>32</th>\n",
              "      <td>Sawai Mansingh Stadium</td>\n",
              "      <td>47</td>\n",
              "    </tr>\n",
              "    <tr>\n",
              "      <th>33</th>\n",
              "      <td>Shaheed Veer Narayan Singh International Stadium</td>\n",
              "      <td>6</td>\n",
              "    </tr>\n",
              "    <tr>\n",
              "      <th>34</th>\n",
              "      <td>Sharjah Cricket Stadium</td>\n",
              "      <td>18</td>\n",
              "    </tr>\n",
              "    <tr>\n",
              "      <th>35</th>\n",
              "      <td>Sheikh Zayed Stadium</td>\n",
              "      <td>29</td>\n",
              "    </tr>\n",
              "    <tr>\n",
              "      <th>36</th>\n",
              "      <td>St George's Park</td>\n",
              "      <td>7</td>\n",
              "    </tr>\n",
              "    <tr>\n",
              "      <th>37</th>\n",
              "      <td>Subrata Roy Sahara Stadium</td>\n",
              "      <td>17</td>\n",
              "    </tr>\n",
              "    <tr>\n",
              "      <th>38</th>\n",
              "      <td>SuperSport Park</td>\n",
              "      <td>12</td>\n",
              "    </tr>\n",
              "    <tr>\n",
              "      <th>39</th>\n",
              "      <td>Vidarbha Cricket Association Stadium, Jamtha</td>\n",
              "      <td>3</td>\n",
              "    </tr>\n",
              "    <tr>\n",
              "      <th>40</th>\n",
              "      <td>Wankhede Stadium</td>\n",
              "      <td>73</td>\n",
              "    </tr>\n",
              "    <tr>\n",
              "      <th>41</th>\n",
              "      <td>Wankhede Stadium, Mumbai</td>\n",
              "      <td>1</td>\n",
              "    </tr>\n",
              "  </tbody>\n",
              "</table>\n",
              "</div>"
            ],
            "text/plain": [
              "                                                venue  total_matches\n",
              "0                                Arun Jaitley Stadium             14\n",
              "1                                    Barabati Stadium              7\n",
              "2                                   Brabourne Stadium             11\n",
              "3                                        Buffalo Park              3\n",
              "4                               De Beers Diamond Oval              3\n",
              "5                          Dr DY Patil Sports Academy             17\n",
              "6   Dr. Y.S. Rajasekhara Reddy ACA-VDCA Cricket St...             13\n",
              "7                 Dubai International Cricket Stadium             33\n",
              "8                                        Eden Gardens             77\n",
              "9                                    Feroz Shah Kotla             60\n",
              "10                                         Green Park              4\n",
              "11       Himachal Pradesh Cricket Association Stadium              9\n",
              "12                             Holkar Cricket Stadium              9\n",
              "13                 JSCA International Stadium Complex              7\n",
              "14                                          Kingsmead             15\n",
              "15                              M Chinnaswamy Stadium             65\n",
              "16                              M.Chinnaswamy Stadium             14\n",
              "17                             MA Chidambaram Stadium              9\n",
              "18                    MA Chidambaram Stadium, Chepauk             48\n",
              "19           MA Chidambaram Stadium, Chepauk, Chennai              2\n",
              "20            Maharashtra Cricket Association Stadium             21\n",
              "21                                      Nehru Stadium              5\n",
              "22                              New Wanderers Stadium              8\n",
              "23                                           Newlands              7\n",
              "24                                    OUTsurance Oval              2\n",
              "25       Punjab Cricket Association IS Bindra Stadium             10\n",
              "26  Punjab Cricket Association IS Bindra Stadium, ...             11\n",
              "27         Punjab Cricket Association Stadium, Mohali             35\n",
              "28                 Rajiv Gandhi International Stadium             15\n",
              "29          Rajiv Gandhi International Stadium, Uppal             49\n",
              "30                       Sardar Patel Stadium, Motera             12\n",
              "31             Saurashtra Cricket Association Stadium             10\n",
              "32                             Sawai Mansingh Stadium             47\n",
              "33   Shaheed Veer Narayan Singh International Stadium              6\n",
              "34                            Sharjah Cricket Stadium             18\n",
              "35                               Sheikh Zayed Stadium             29\n",
              "36                                   St George's Park              7\n",
              "37                         Subrata Roy Sahara Stadium             17\n",
              "38                                    SuperSport Park             12\n",
              "39       Vidarbha Cricket Association Stadium, Jamtha              3\n",
              "40                                   Wankhede Stadium             73\n",
              "41                           Wankhede Stadium, Mumbai              1"
            ]
          },
          "metadata": {
            "tags": []
          },
          "execution_count": 20
        }
      ]
    },
    {
      "cell_type": "markdown",
      "metadata": {
        "id": "ewb_sZpRY7N8"
      },
      "source": [
        "To get total runs"
      ]
    },
    {
      "cell_type": "code",
      "metadata": {
        "id": "9u-lzFbOX3BU"
      },
      "source": [
        "venue=ipl_data.groupby(['venue']).total_runs.sum()\n",
        "venue=venue.reset_index()"
      ],
      "execution_count": null,
      "outputs": []
    },
    {
      "cell_type": "code",
      "metadata": {
        "colab": {
          "base_uri": "https://localhost:8080/",
          "height": 1000
        },
        "id": "KkSdag9wWVdD",
        "outputId": "5744457e-ee10-448c-ae5c-0178df52b884"
      },
      "source": [
        "venue"
      ],
      "execution_count": null,
      "outputs": [
        {
          "output_type": "execute_result",
          "data": {
            "text/html": [
              "<div>\n",
              "<style scoped>\n",
              "    .dataframe tbody tr th:only-of-type {\n",
              "        vertical-align: middle;\n",
              "    }\n",
              "\n",
              "    .dataframe tbody tr th {\n",
              "        vertical-align: top;\n",
              "    }\n",
              "\n",
              "    .dataframe thead th {\n",
              "        text-align: right;\n",
              "    }\n",
              "</style>\n",
              "<table border=\"1\" class=\"dataframe\">\n",
              "  <thead>\n",
              "    <tr style=\"text-align: right;\">\n",
              "      <th></th>\n",
              "      <th>venue</th>\n",
              "      <th>total_runs</th>\n",
              "    </tr>\n",
              "  </thead>\n",
              "  <tbody>\n",
              "    <tr>\n",
              "      <th>0</th>\n",
              "      <td>Arun Jaitley Stadium</td>\n",
              "      <td>1436</td>\n",
              "    </tr>\n",
              "    <tr>\n",
              "      <th>1</th>\n",
              "      <td>Barabati Stadium</td>\n",
              "      <td>610</td>\n",
              "    </tr>\n",
              "    <tr>\n",
              "      <th>2</th>\n",
              "      <td>Brabourne Stadium</td>\n",
              "      <td>1141</td>\n",
              "    </tr>\n",
              "    <tr>\n",
              "      <th>3</th>\n",
              "      <td>Buffalo Park</td>\n",
              "      <td>237</td>\n",
              "    </tr>\n",
              "    <tr>\n",
              "      <th>4</th>\n",
              "      <td>De Beers Diamond Oval</td>\n",
              "      <td>240</td>\n",
              "    </tr>\n",
              "    <tr>\n",
              "      <th>5</th>\n",
              "      <td>Dr DY Patil Sports Academy</td>\n",
              "      <td>1439</td>\n",
              "    </tr>\n",
              "    <tr>\n",
              "      <th>6</th>\n",
              "      <td>Dr. Y.S. Rajasekhara Reddy ACA-VDCA Cricket St...</td>\n",
              "      <td>1065</td>\n",
              "    </tr>\n",
              "    <tr>\n",
              "      <th>7</th>\n",
              "      <td>Dubai International Cricket Stadium</td>\n",
              "      <td>3010</td>\n",
              "    </tr>\n",
              "    <tr>\n",
              "      <th>8</th>\n",
              "      <td>Eden Gardens</td>\n",
              "      <td>7125</td>\n",
              "    </tr>\n",
              "    <tr>\n",
              "      <th>9</th>\n",
              "      <td>Feroz Shah Kotla</td>\n",
              "      <td>5604</td>\n",
              "    </tr>\n",
              "    <tr>\n",
              "      <th>10</th>\n",
              "      <td>Green Park</td>\n",
              "      <td>440</td>\n",
              "    </tr>\n",
              "    <tr>\n",
              "      <th>11</th>\n",
              "      <td>Himachal Pradesh Cricket Association Stadium</td>\n",
              "      <td>730</td>\n",
              "    </tr>\n",
              "    <tr>\n",
              "      <th>12</th>\n",
              "      <td>Holkar Cricket Stadium</td>\n",
              "      <td>931</td>\n",
              "    </tr>\n",
              "    <tr>\n",
              "      <th>13</th>\n",
              "      <td>JSCA International Stadium Complex</td>\n",
              "      <td>543</td>\n",
              "    </tr>\n",
              "    <tr>\n",
              "      <th>14</th>\n",
              "      <td>Kingsmead</td>\n",
              "      <td>1378</td>\n",
              "    </tr>\n",
              "    <tr>\n",
              "      <th>15</th>\n",
              "      <td>M Chinnaswamy Stadium</td>\n",
              "      <td>5831</td>\n",
              "    </tr>\n",
              "    <tr>\n",
              "      <th>16</th>\n",
              "      <td>M.Chinnaswamy Stadium</td>\n",
              "      <td>1483</td>\n",
              "    </tr>\n",
              "    <tr>\n",
              "      <th>17</th>\n",
              "      <td>MA Chidambaram Stadium</td>\n",
              "      <td>781</td>\n",
              "    </tr>\n",
              "    <tr>\n",
              "      <th>18</th>\n",
              "      <td>MA Chidambaram Stadium, Chepauk</td>\n",
              "      <td>4542</td>\n",
              "    </tr>\n",
              "    <tr>\n",
              "      <th>19</th>\n",
              "      <td>MA Chidambaram Stadium, Chepauk, Chennai</td>\n",
              "      <td>172</td>\n",
              "    </tr>\n",
              "    <tr>\n",
              "      <th>20</th>\n",
              "      <td>Maharashtra Cricket Association Stadium</td>\n",
              "      <td>1993</td>\n",
              "    </tr>\n",
              "    <tr>\n",
              "      <th>21</th>\n",
              "      <td>Nehru Stadium</td>\n",
              "      <td>398</td>\n",
              "    </tr>\n",
              "    <tr>\n",
              "      <th>22</th>\n",
              "      <td>New Wanderers Stadium</td>\n",
              "      <td>670</td>\n",
              "    </tr>\n",
              "    <tr>\n",
              "      <th>23</th>\n",
              "      <td>Newlands</td>\n",
              "      <td>594</td>\n",
              "    </tr>\n",
              "    <tr>\n",
              "      <th>24</th>\n",
              "      <td>OUTsurance Oval</td>\n",
              "      <td>134</td>\n",
              "    </tr>\n",
              "    <tr>\n",
              "      <th>25</th>\n",
              "      <td>Punjab Cricket Association IS Bindra Stadium</td>\n",
              "      <td>1032</td>\n",
              "    </tr>\n",
              "    <tr>\n",
              "      <th>26</th>\n",
              "      <td>Punjab Cricket Association IS Bindra Stadium, ...</td>\n",
              "      <td>1095</td>\n",
              "    </tr>\n",
              "    <tr>\n",
              "      <th>27</th>\n",
              "      <td>Punjab Cricket Association Stadium, Mohali</td>\n",
              "      <td>3297</td>\n",
              "    </tr>\n",
              "    <tr>\n",
              "      <th>28</th>\n",
              "      <td>Rajiv Gandhi International Stadium</td>\n",
              "      <td>1517</td>\n",
              "    </tr>\n",
              "    <tr>\n",
              "      <th>29</th>\n",
              "      <td>Rajiv Gandhi International Stadium, Uppal</td>\n",
              "      <td>4353</td>\n",
              "    </tr>\n",
              "    <tr>\n",
              "      <th>30</th>\n",
              "      <td>Sardar Patel Stadium, Motera</td>\n",
              "      <td>1148</td>\n",
              "    </tr>\n",
              "    <tr>\n",
              "      <th>31</th>\n",
              "      <td>Saurashtra Cricket Association Stadium</td>\n",
              "      <td>1123</td>\n",
              "    </tr>\n",
              "    <tr>\n",
              "      <th>32</th>\n",
              "      <td>Sawai Mansingh Stadium</td>\n",
              "      <td>4234</td>\n",
              "    </tr>\n",
              "    <tr>\n",
              "      <th>33</th>\n",
              "      <td>Shaheed Veer Narayan Singh International Stadium</td>\n",
              "      <td>460</td>\n",
              "    </tr>\n",
              "    <tr>\n",
              "      <th>34</th>\n",
              "      <td>Sharjah Cricket Stadium</td>\n",
              "      <td>1693</td>\n",
              "    </tr>\n",
              "    <tr>\n",
              "      <th>35</th>\n",
              "      <td>Sheikh Zayed Stadium</td>\n",
              "      <td>2560</td>\n",
              "    </tr>\n",
              "    <tr>\n",
              "      <th>36</th>\n",
              "      <td>St George's Park</td>\n",
              "      <td>627</td>\n",
              "    </tr>\n",
              "    <tr>\n",
              "      <th>37</th>\n",
              "      <td>Subrata Roy Sahara Stadium</td>\n",
              "      <td>1424</td>\n",
              "    </tr>\n",
              "    <tr>\n",
              "      <th>38</th>\n",
              "      <td>SuperSport Park</td>\n",
              "      <td>1086</td>\n",
              "    </tr>\n",
              "    <tr>\n",
              "      <th>39</th>\n",
              "      <td>Vidarbha Cricket Association Stadium, Jamtha</td>\n",
              "      <td>265</td>\n",
              "    </tr>\n",
              "    <tr>\n",
              "      <th>40</th>\n",
              "      <td>Wankhede Stadium</td>\n",
              "      <td>6676</td>\n",
              "    </tr>\n",
              "    <tr>\n",
              "      <th>41</th>\n",
              "      <td>Wankhede Stadium, Mumbai</td>\n",
              "      <td>98</td>\n",
              "    </tr>\n",
              "  </tbody>\n",
              "</table>\n",
              "</div>"
            ],
            "text/plain": [
              "                                                venue  total_runs\n",
              "0                                Arun Jaitley Stadium        1436\n",
              "1                                    Barabati Stadium         610\n",
              "2                                   Brabourne Stadium        1141\n",
              "3                                        Buffalo Park         237\n",
              "4                               De Beers Diamond Oval         240\n",
              "5                          Dr DY Patil Sports Academy        1439\n",
              "6   Dr. Y.S. Rajasekhara Reddy ACA-VDCA Cricket St...        1065\n",
              "7                 Dubai International Cricket Stadium        3010\n",
              "8                                        Eden Gardens        7125\n",
              "9                                    Feroz Shah Kotla        5604\n",
              "10                                         Green Park         440\n",
              "11       Himachal Pradesh Cricket Association Stadium         730\n",
              "12                             Holkar Cricket Stadium         931\n",
              "13                 JSCA International Stadium Complex         543\n",
              "14                                          Kingsmead        1378\n",
              "15                              M Chinnaswamy Stadium        5831\n",
              "16                              M.Chinnaswamy Stadium        1483\n",
              "17                             MA Chidambaram Stadium         781\n",
              "18                    MA Chidambaram Stadium, Chepauk        4542\n",
              "19           MA Chidambaram Stadium, Chepauk, Chennai         172\n",
              "20            Maharashtra Cricket Association Stadium        1993\n",
              "21                                      Nehru Stadium         398\n",
              "22                              New Wanderers Stadium         670\n",
              "23                                           Newlands         594\n",
              "24                                    OUTsurance Oval         134\n",
              "25       Punjab Cricket Association IS Bindra Stadium        1032\n",
              "26  Punjab Cricket Association IS Bindra Stadium, ...        1095\n",
              "27         Punjab Cricket Association Stadium, Mohali        3297\n",
              "28                 Rajiv Gandhi International Stadium        1517\n",
              "29          Rajiv Gandhi International Stadium, Uppal        4353\n",
              "30                       Sardar Patel Stadium, Motera        1148\n",
              "31             Saurashtra Cricket Association Stadium        1123\n",
              "32                             Sawai Mansingh Stadium        4234\n",
              "33   Shaheed Veer Narayan Singh International Stadium         460\n",
              "34                            Sharjah Cricket Stadium        1693\n",
              "35                               Sheikh Zayed Stadium        2560\n",
              "36                                   St George's Park         627\n",
              "37                         Subrata Roy Sahara Stadium        1424\n",
              "38                                    SuperSport Park        1086\n",
              "39       Vidarbha Cricket Association Stadium, Jamtha         265\n",
              "40                                   Wankhede Stadium        6676\n",
              "41                           Wankhede Stadium, Mumbai          98"
            ]
          },
          "metadata": {
            "tags": []
          },
          "execution_count": 30
        }
      ]
    },
    {
      "cell_type": "markdown",
      "metadata": {
        "id": "9bzS2BmkZrVF"
      },
      "source": [
        "I saw same stadium name was getting repeated so we changed them manually..I am not showing it here"
      ]
    },
    {
      "cell_type": "markdown",
      "metadata": {
        "id": "otNrjqYiZ7i6"
      },
      "source": [
        "Next we did same and calculated averages of all columns"
      ]
    },
    {
      "cell_type": "markdown",
      "metadata": {
        "id": "kp6t5kaiae4e"
      },
      "source": [
        "I will show the final dataset after caluclating averages and replacing tex with averages..."
      ]
    },
    {
      "cell_type": "code",
      "metadata": {
        "id": "WLlLPJQ4ZMS0"
      },
      "source": [
        "model_data=pd.read_csv(\"gdrive/My Drive/IPL/model_data.csv\")"
      ],
      "execution_count": null,
      "outputs": []
    },
    {
      "cell_type": "code",
      "metadata": {
        "colab": {
          "base_uri": "https://localhost:8080/",
          "height": 284
        },
        "id": "QIqiAT9zaqGO",
        "outputId": "998a76d2-50ed-4407-9189-8f5cfb30a000"
      },
      "source": [
        "model_data.describe()"
      ],
      "execution_count": null,
      "outputs": [
        {
          "output_type": "execute_result",
          "data": {
            "text/html": [
              "<div>\n",
              "<style scoped>\n",
              "    .dataframe tbody tr th:only-of-type {\n",
              "        vertical-align: middle;\n",
              "    }\n",
              "\n",
              "    .dataframe tbody tr th {\n",
              "        vertical-align: top;\n",
              "    }\n",
              "\n",
              "    .dataframe thead th {\n",
              "        text-align: right;\n",
              "    }\n",
              "</style>\n",
              "<table border=\"1\" class=\"dataframe\">\n",
              "  <thead>\n",
              "    <tr style=\"text-align: right;\">\n",
              "      <th></th>\n",
              "      <th>bowler</th>\n",
              "      <th>match_id</th>\n",
              "      <th>venue</th>\n",
              "      <th>batting_team</th>\n",
              "      <th>bowling_team</th>\n",
              "      <th>innings</th>\n",
              "      <th>striker</th>\n",
              "    </tr>\n",
              "  </thead>\n",
              "  <tbody>\n",
              "    <tr>\n",
              "      <th>count</th>\n",
              "      <td>1664.000000</td>\n",
              "      <td>1.664000e+03</td>\n",
              "      <td>1664.000000</td>\n",
              "      <td>1664.000000</td>\n",
              "      <td>1664.000000</td>\n",
              "      <td>1664.000000</td>\n",
              "      <td>1664.000000</td>\n",
              "    </tr>\n",
              "    <tr>\n",
              "      <th>mean</th>\n",
              "      <td>44.582790</td>\n",
              "      <td>7.612540e+05</td>\n",
              "      <td>45.975359</td>\n",
              "      <td>46.237337</td>\n",
              "      <td>46.239502</td>\n",
              "      <td>1.535457</td>\n",
              "      <td>14.052819</td>\n",
              "    </tr>\n",
              "    <tr>\n",
              "      <th>std</th>\n",
              "      <td>3.844133</td>\n",
              "      <td>3.077864e+05</td>\n",
              "      <td>2.666010</td>\n",
              "      <td>1.440206</td>\n",
              "      <td>1.684503</td>\n",
              "      <td>0.575041</td>\n",
              "      <td>2.306982</td>\n",
              "    </tr>\n",
              "    <tr>\n",
              "      <th>min</th>\n",
              "      <td>34.414752</td>\n",
              "      <td>3.359820e+05</td>\n",
              "      <td>33.500000</td>\n",
              "      <td>42.111111</td>\n",
              "      <td>42.357143</td>\n",
              "      <td>1.000000</td>\n",
              "      <td>4.673077</td>\n",
              "    </tr>\n",
              "    <tr>\n",
              "      <th>25%</th>\n",
              "      <td>42.023306</td>\n",
              "      <td>5.012298e+05</td>\n",
              "      <td>45.606061</td>\n",
              "      <td>45.523316</td>\n",
              "      <td>45.536585</td>\n",
              "      <td>1.000000</td>\n",
              "      <td>12.450521</td>\n",
              "    </tr>\n",
              "    <tr>\n",
              "      <th>50%</th>\n",
              "      <td>44.100323</td>\n",
              "      <td>7.293070e+05</td>\n",
              "      <td>46.266234</td>\n",
              "      <td>45.753695</td>\n",
              "      <td>46.552083</td>\n",
              "      <td>2.000000</td>\n",
              "      <td>14.130836</td>\n",
              "    </tr>\n",
              "    <tr>\n",
              "      <th>75%</th>\n",
              "      <td>46.718477</td>\n",
              "      <td>1.082632e+06</td>\n",
              "      <td>46.775000</td>\n",
              "      <td>47.126316</td>\n",
              "      <td>47.375000</td>\n",
              "      <td>2.000000</td>\n",
              "      <td>15.647586</td>\n",
              "    </tr>\n",
              "    <tr>\n",
              "      <th>max</th>\n",
              "      <td>72.213481</td>\n",
              "      <td>1.254060e+06</td>\n",
              "      <td>56.150000</td>\n",
              "      <td>51.966667</td>\n",
              "      <td>52.000000</td>\n",
              "      <td>6.000000</td>\n",
              "      <td>20.833333</td>\n",
              "    </tr>\n",
              "  </tbody>\n",
              "</table>\n",
              "</div>"
            ],
            "text/plain": [
              "            bowler      match_id  ...      innings      striker\n",
              "count  1664.000000  1.664000e+03  ...  1664.000000  1664.000000\n",
              "mean     44.582790  7.612540e+05  ...     1.535457    14.052819\n",
              "std       3.844133  3.077864e+05  ...     0.575041     2.306982\n",
              "min      34.414752  3.359820e+05  ...     1.000000     4.673077\n",
              "25%      42.023306  5.012298e+05  ...     1.000000    12.450521\n",
              "50%      44.100323  7.293070e+05  ...     2.000000    14.130836\n",
              "75%      46.718477  1.082632e+06  ...     2.000000    15.647586\n",
              "max      72.213481  1.254060e+06  ...     6.000000    20.833333\n",
              "\n",
              "[8 rows x 7 columns]"
            ]
          },
          "metadata": {
            "tags": []
          },
          "execution_count": 91
        }
      ]
    },
    {
      "cell_type": "markdown",
      "metadata": {
        "id": "tFr0lKZbktxr"
      },
      "source": [
        "For batsmen I took the averages of all batsmen involved and for bowler I used the average of runs per ball multiplied by 36 "
      ]
    },
    {
      "cell_type": "markdown",
      "metadata": {
        "id": "T15nfImwg2pI"
      },
      "source": [
        "Some more preparation before putting into ML model.\n",
        "1. Found total runs which is our target variable and merged with model_data.\n",
        "2. Reordered the columns for convenience\n",
        "3. changed column name: \"striker\" TO \"batemen\"\n",
        "4. Dropped Match_id"
      ]
    },
    {
      "cell_type": "markdown",
      "metadata": {
        "id": "s13ORvxpkEfq"
      },
      "source": [
        "innings can\"t have values greater than 2"
      ]
    },
    {
      "cell_type": "code",
      "metadata": {
        "id": "xE3lH3iKkD7H"
      },
      "source": [
        "model_data['innings'] = np.where(model_data['innings']>2,1,model_data['innings'])"
      ],
      "execution_count": null,
      "outputs": []
    },
    {
      "cell_type": "code",
      "metadata": {
        "id": "mcPj8a02gxPy"
      },
      "source": [
        "k=ipl_data.groupby(['match_id','innings']).total_runs.sum()\n",
        "k=k.reset_index()\n",
        "k=k.drop(columns=['match_id','innings'])\n",
        "model_data=model_data[['match_id','innings','venue','batting_team','bowling_team','striker','bowler']]\n",
        "model_data=model_data.merge(k,left_index=True,right_index=True)\n",
        "model_data=model_data.rename(columns={'striker':'batsmen'})\n",
        "model_data=model_data.drop(columns=[\"match_id\"])"
      ],
      "execution_count": null,
      "outputs": []
    },
    {
      "cell_type": "code",
      "metadata": {
        "colab": {
          "base_uri": "https://localhost:8080/",
          "height": 402
        },
        "id": "Q5VoqHAhi7dz",
        "outputId": "ea38ca74-7188-4b00-b1a6-1891abd197cf"
      },
      "source": [
        "model_data"
      ],
      "execution_count": null,
      "outputs": [
        {
          "output_type": "execute_result",
          "data": {
            "text/html": [
              "<div>\n",
              "<style scoped>\n",
              "    .dataframe tbody tr th:only-of-type {\n",
              "        vertical-align: middle;\n",
              "    }\n",
              "\n",
              "    .dataframe tbody tr th {\n",
              "        vertical-align: top;\n",
              "    }\n",
              "\n",
              "    .dataframe thead th {\n",
              "        text-align: right;\n",
              "    }\n",
              "</style>\n",
              "<table border=\"1\" class=\"dataframe\">\n",
              "  <thead>\n",
              "    <tr style=\"text-align: right;\">\n",
              "      <th></th>\n",
              "      <th>innings</th>\n",
              "      <th>venue</th>\n",
              "      <th>batting_team</th>\n",
              "      <th>bowling_team</th>\n",
              "      <th>batsmen</th>\n",
              "      <th>bowler</th>\n",
              "      <th>total_runs</th>\n",
              "    </tr>\n",
              "  </thead>\n",
              "  <tbody>\n",
              "    <tr>\n",
              "      <th>0</th>\n",
              "      <td>1</td>\n",
              "      <td>46.291139</td>\n",
              "      <td>46.895288</td>\n",
              "      <td>46.690722</td>\n",
              "      <td>11.301499</td>\n",
              "      <td>65.979901</td>\n",
              "      <td>61</td>\n",
              "    </tr>\n",
              "    <tr>\n",
              "      <th>1</th>\n",
              "      <td>2</td>\n",
              "      <td>46.291139</td>\n",
              "      <td>45.523316</td>\n",
              "      <td>46.552083</td>\n",
              "      <td>10.905102</td>\n",
              "      <td>46.563351</td>\n",
              "      <td>26</td>\n",
              "    </tr>\n",
              "    <tr>\n",
              "      <th>2</th>\n",
              "      <td>1</td>\n",
              "      <td>47.000000</td>\n",
              "      <td>45.195531</td>\n",
              "      <td>48.343915</td>\n",
              "      <td>17.246839</td>\n",
              "      <td>45.299813</td>\n",
              "      <td>53</td>\n",
              "    </tr>\n",
              "    <tr>\n",
              "      <th>3</th>\n",
              "      <td>2</td>\n",
              "      <td>47.000000</td>\n",
              "      <td>47.126316</td>\n",
              "      <td>46.022346</td>\n",
              "      <td>13.369048</td>\n",
              "      <td>53.292176</td>\n",
              "      <td>63</td>\n",
              "    </tr>\n",
              "    <tr>\n",
              "      <th>4</th>\n",
              "      <td>2</td>\n",
              "      <td>46.700000</td>\n",
              "      <td>46.000000</td>\n",
              "      <td>46.606250</td>\n",
              "      <td>16.654996</td>\n",
              "      <td>45.480269</td>\n",
              "      <td>40</td>\n",
              "    </tr>\n",
              "    <tr>\n",
              "      <th>...</th>\n",
              "      <td>...</td>\n",
              "      <td>...</td>\n",
              "      <td>...</td>\n",
              "      <td>...</td>\n",
              "      <td>...</td>\n",
              "      <td>...</td>\n",
              "      <td>...</td>\n",
              "    </tr>\n",
              "    <tr>\n",
              "      <th>1659</th>\n",
              "      <td>2</td>\n",
              "      <td>46.567797</td>\n",
              "      <td>45.523316</td>\n",
              "      <td>43.916667</td>\n",
              "      <td>11.557971</td>\n",
              "      <td>49.079310</td>\n",
              "      <td>46</td>\n",
              "    </tr>\n",
              "    <tr>\n",
              "      <th>1660</th>\n",
              "      <td>1</td>\n",
              "      <td>45.770270</td>\n",
              "      <td>45.195531</td>\n",
              "      <td>47.029412</td>\n",
              "      <td>13.084878</td>\n",
              "      <td>52.432452</td>\n",
              "      <td>33</td>\n",
              "    </tr>\n",
              "    <tr>\n",
              "      <th>1661</th>\n",
              "      <td>2</td>\n",
              "      <td>45.770270</td>\n",
              "      <td>48.176471</td>\n",
              "      <td>46.022346</td>\n",
              "      <td>16.191321</td>\n",
              "      <td>47.242827</td>\n",
              "      <td>65</td>\n",
              "    </tr>\n",
              "    <tr>\n",
              "      <th>1662</th>\n",
              "      <td>1</td>\n",
              "      <td>46.567797</td>\n",
              "      <td>46.895288</td>\n",
              "      <td>45.536585</td>\n",
              "      <td>12.825047</td>\n",
              "      <td>38.884243</td>\n",
              "      <td>50</td>\n",
              "    </tr>\n",
              "    <tr>\n",
              "      <th>1663</th>\n",
              "      <td>2</td>\n",
              "      <td>46.567797</td>\n",
              "      <td>48.241935</td>\n",
              "      <td>46.552083</td>\n",
              "      <td>16.086934</td>\n",
              "      <td>46.265150</td>\n",
              "      <td>35</td>\n",
              "    </tr>\n",
              "  </tbody>\n",
              "</table>\n",
              "<p>1664 rows × 7 columns</p>\n",
              "</div>"
            ],
            "text/plain": [
              "      innings      venue  batting_team  ...    batsmen     bowler  total_runs\n",
              "0           1  46.291139     46.895288  ...  11.301499  65.979901          61\n",
              "1           2  46.291139     45.523316  ...  10.905102  46.563351          26\n",
              "2           1  47.000000     45.195531  ...  17.246839  45.299813          53\n",
              "3           2  47.000000     47.126316  ...  13.369048  53.292176          63\n",
              "4           2  46.700000     46.000000  ...  16.654996  45.480269          40\n",
              "...       ...        ...           ...  ...        ...        ...         ...\n",
              "1659        2  46.567797     45.523316  ...  11.557971  49.079310          46\n",
              "1660        1  45.770270     45.195531  ...  13.084878  52.432452          33\n",
              "1661        2  45.770270     48.176471  ...  16.191321  47.242827          65\n",
              "1662        1  46.567797     46.895288  ...  12.825047  38.884243          50\n",
              "1663        2  46.567797     48.241935  ...  16.086934  46.265150          35\n",
              "\n",
              "[1664 rows x 7 columns]"
            ]
          },
          "metadata": {
            "tags": []
          },
          "execution_count": 96
        }
      ]
    },
    {
      "cell_type": "markdown",
      "metadata": {
        "id": "eJ6y-Tc8eeIr"
      },
      "source": [
        "##**DATA VISUALIZATION**"
      ]
    },
    {
      "cell_type": "code",
      "metadata": {
        "id": "NP8JjQUKec9G"
      },
      "source": [
        "import seaborn as sns\n",
        "import matplotlib.pyplot as plt"
      ],
      "execution_count": null,
      "outputs": []
    },
    {
      "cell_type": "code",
      "metadata": {
        "id": "FmTaVFZeeuoI"
      },
      "source": [
        "visual_data=model_data.copy()"
      ],
      "execution_count": null,
      "outputs": []
    },
    {
      "cell_type": "code",
      "metadata": {
        "colab": {
          "base_uri": "https://localhost:8080/"
        },
        "id": "FYMIKpixfOgq",
        "outputId": "3e266a8f-4c81-4dd6-f8ad-1c94abbffd6d"
      },
      "source": [
        "discrete_feature=[feature for feature in visual_data.columns if len(visual_data[feature].unique())<50]\n",
        "print(\"Discrete Variables: {}\".format(discrete_feature))"
      ],
      "execution_count": null,
      "outputs": [
        {
          "output_type": "stream",
          "text": [
            "Discrete Variables: ['innings', 'venue', 'batting_team', 'bowling_team']\n"
          ],
          "name": "stdout"
        }
      ]
    },
    {
      "cell_type": "code",
      "metadata": {
        "colab": {
          "base_uri": "https://localhost:8080/",
          "height": 1000
        },
        "id": "pgc1VeGhgb-P",
        "outputId": "29251153-5a36-4d81-e107-cd359bd8cf5a"
      },
      "source": [
        "for feature in discrete_feature:\n",
        "    data=visual_data.copy()\n",
        "    data.groupby(feature)['total_runs'].median().plot.bar()\n",
        "    plt.xlabel(feature)\n",
        "    plt.ylabel('total_runs')\n",
        "    plt.title(feature)\n",
        "    plt.show()"
      ],
      "execution_count": null,
      "outputs": [
        {
          "output_type": "display_data",
          "data": {
            "image/png": "[encoded data removed]",
            "text/plain": [
              "<Figure size 432x288 with 1 Axes>"
            ]
          },
          "metadata": {
            "tags": [],
            "needs_background": "light"
          }
        },
        {
          "output_type": "display_data",
          "data": {
            "image/png": "[encoded data removed]",
            "text/plain": [
              "<Figure size 432x288 with 1 Axes>"
            ]
          },
          "metadata": {
            "tags": [],
            "needs_background": "light"
          }
        },
        {
          "output_type": "display_data",
          "data": {
            "image/png": "[encoded data removed]",
            "text/plain": [
              "<Figure size 432x288 with 1 Axes>"
            ]
          },
          "metadata": {
            "tags": [],
            "needs_background": "light"
          }
        },
        {
          "output_type": "display_data",
          "data": {
            "image/png": "[encoded data removed]",
            "text/plain": [
              "<Figure size 432x288 with 1 Axes>"
            ]
          },
          "metadata": {
            "tags": [],
            "needs_background": "light"
          }
        }
      ]
    },
    {
      "cell_type": "markdown",
      "metadata": {
        "id": "YQVLFq8QlAZk"
      },
      "source": [
        "We saw how these data affected total runs"
      ]
    },
    {
      "cell_type": "markdown",
      "metadata": {
        "id": "OdEd7ZZccChR"
      },
      "source": [
        "##**MACHINE LEARNING MODEL**"
      ]
    },
    {
      "cell_type": "markdown",
      "metadata": {
        "id": "ewcI1c9pcpgr"
      },
      "source": [
        "I am using random Forest Regressor"
      ]
    },
    {
      "cell_type": "code",
      "metadata": {
        "id": "KG_KZvI-d6iJ"
      },
      "source": [
        "import numpy as np"
      ],
      "execution_count": null,
      "outputs": []
    },
    {
      "cell_type": "code",
      "metadata": {
        "id": "S30mjeKzdnRR"
      },
      "source": [
        "dataset=model_data.copy()"
      ],
      "execution_count": null,
      "outputs": []
    },
    {
      "cell_type": "code",
      "metadata": {
        "id": "URWqtX2TcAsh"
      },
      "source": [
        "X = dataset.iloc[:, 0:6].values\n",
        "y = dataset.iloc[:, 6].values"
      ],
      "execution_count": null,
      "outputs": []
    },
    {
      "cell_type": "markdown",
      "metadata": {
        "id": "Si_RRZXpc6H6"
      },
      "source": [
        "Separated dependent and independent variables"
      ]
    },
    {
      "cell_type": "code",
      "metadata": {
        "id": "ZfnmFyStcOjP"
      },
      "source": [
        "from sklearn.model_selection import train_test_split\n",
        "X_train, X_test, y_train, y_test = train_test_split(X, y, test_size=0.1, random_state=0)"
      ],
      "execution_count": null,
      "outputs": []
    },
    {
      "cell_type": "markdown",
      "metadata": {
        "id": "oSQyPakIdww3"
      },
      "source": [
        "Test-Train split"
      ]
    },
    {
      "cell_type": "code",
      "metadata": {
        "id": "mEaDGR--cSXK"
      },
      "source": [
        "from sklearn.ensemble import RandomForestRegressor\n",
        "regressor = RandomForestRegressor(n_estimators=200, random_state=0)\n",
        "regressor.fit(X_train, y_train)\n",
        "y_pred = regressor.predict(X_test)"
      ],
      "execution_count": null,
      "outputs": []
    },
    {
      "cell_type": "markdown",
      "metadata": {
        "id": "k3mdrtMJd2Wq"
      },
      "source": [
        "Training"
      ]
    },
    {
      "cell_type": "code",
      "metadata": {
        "colab": {
          "base_uri": "https://localhost:8080/"
        },
        "id": "Ll2XWNT1c3P0",
        "outputId": "e26d5cff-7d33-46d8-f567-805e08c97f34"
      },
      "source": [
        "from sklearn import metrics\n",
        "print('Mean Absolute Error:', metrics.mean_absolute_error(y_test, y_pred))\n",
        "print('Mean Squared Error:', metrics.mean_squared_error(y_test, y_pred))\n",
        "print('Root Mean Squared Error:', np.sqrt(metrics.mean_squared_error(y_test, y_pred)))"
      ],
      "execution_count": null,
      "outputs": [
        {
          "output_type": "stream",
          "text": [
            "Mean Absolute Error: 10.09185628742515\n",
            "Mean Squared Error: 161.1920140718563\n",
            "Root Mean Squared Error: 12.696141700211774\n"
          ],
          "name": "stdout"
        }
      ]
    },
    {
      "cell_type": "markdown",
      "metadata": {
        "id": "WAKvYGz1eA4v"
      },
      "source": [
        "Obtained These Error values\n"
      ]
    }
  ]
}